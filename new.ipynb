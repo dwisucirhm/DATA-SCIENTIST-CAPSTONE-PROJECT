{
 "cells": [
  {
   "cell_type": "code",
   "execution_count": 13,
   "metadata": {},
   "outputs": [],
   "source": [
    "import pandas as pd\n",
    "import numpy as np\n",
    "import matplotlib.pyplot as plt\n",
    "import plotly.express as px"
   ]
  },
  {
   "cell_type": "code",
   "execution_count": 9,
   "metadata": {},
   "outputs": [
    {
     "data": {
      "text/html": [
       "<div>\n",
       "<style scoped>\n",
       "    .dataframe tbody tr th:only-of-type {\n",
       "        vertical-align: middle;\n",
       "    }\n",
       "\n",
       "    .dataframe tbody tr th {\n",
       "        vertical-align: top;\n",
       "    }\n",
       "\n",
       "    .dataframe thead th {\n",
       "        text-align: right;\n",
       "    }\n",
       "</style>\n",
       "<table border=\"1\" class=\"dataframe\">\n",
       "  <thead>\n",
       "    <tr style=\"text-align: right;\">\n",
       "      <th></th>\n",
       "      <th>Funnel report Aug 17/2022 - Nov 14/2022</th>\n",
       "      <th>Unnamed: 1</th>\n",
       "      <th>Unnamed: 2</th>\n",
       "      <th>Unnamed: 3</th>\n",
       "      <th>Unnamed: 4</th>\n",
       "      <th>Unnamed: 5</th>\n",
       "      <th>Unnamed: 6</th>\n",
       "      <th>Unnamed: 7</th>\n",
       "      <th>Unnamed: 8</th>\n",
       "      <th>Unnamed: 9</th>\n",
       "      <th>Unnamed: 10</th>\n",
       "      <th>Unnamed: 11</th>\n",
       "      <th>Unnamed: 12</th>\n",
       "      <th>Unnamed: 13</th>\n",
       "    </tr>\n",
       "  </thead>\n",
       "  <tbody>\n",
       "    <tr>\n",
       "      <th>0</th>\n",
       "      <td>1 First App Open</td>\n",
       "      <td>2 Read Oboarding</td>\n",
       "      <td>3 Sign Up</td>\n",
       "      <td>4 Load Topic</td>\n",
       "      <td>5 Topic Choosed</td>\n",
       "      <td>6 Load Learning Page</td>\n",
       "      <td>7 Sub Topic Choosed</td>\n",
       "      <td>8 Read Material</td>\n",
       "      <td>9 Correct Answer Quiz</td>\n",
       "      <td>10 Finish Hooray</td>\n",
       "      <td>11 Exercise Choosed</td>\n",
       "      <td>12 Correct Answer Exercise</td>\n",
       "      <td>13 Finish Hooray</td>\n",
       "      <td>NaN</td>\n",
       "    </tr>\n",
       "    <tr>\n",
       "      <th>1</th>\n",
       "      <td>140</td>\n",
       "      <td>95.71%</td>\n",
       "      <td>72.39%</td>\n",
       "      <td>82.47%</td>\n",
       "      <td>88.75%</td>\n",
       "      <td>100%</td>\n",
       "      <td>95.77%</td>\n",
       "      <td>100%</td>\n",
       "      <td>75%</td>\n",
       "      <td>100%</td>\n",
       "      <td>88.24%</td>\n",
       "      <td>80%</td>\n",
       "      <td>97.22%</td>\n",
       "      <td>NaN</td>\n",
       "    </tr>\n",
       "  </tbody>\n",
       "</table>\n",
       "</div>"
      ],
      "text/plain": [
       "  Funnel report Aug 17/2022 - Nov 14/2022        Unnamed: 1 Unnamed: 2  \\\n",
       "0                        1 First App Open  2 Read Oboarding  3 Sign Up   \n",
       "1                                     140            95.71%     72.39%   \n",
       "\n",
       "     Unnamed: 3       Unnamed: 4            Unnamed: 5           Unnamed: 6  \\\n",
       "0  4 Load Topic  5 Topic Choosed  6 Load Learning Page  7 Sub Topic Choosed   \n",
       "1        82.47%           88.75%                  100%               95.77%   \n",
       "\n",
       "        Unnamed: 7             Unnamed: 8        Unnamed: 9  \\\n",
       "0  8 Read Material  9 Correct Answer Quiz  10 Finish Hooray   \n",
       "1             100%                    75%              100%   \n",
       "\n",
       "           Unnamed: 10                 Unnamed: 11       Unnamed: 12  \\\n",
       "0  11 Exercise Choosed  12 Correct Answer Exercise  13 Finish Hooray   \n",
       "1               88.24%                         80%            97.22%   \n",
       "\n",
       "   Unnamed: 13  \n",
       "0          NaN  \n",
       "1          NaN  "
      ]
     },
     "execution_count": 9,
     "metadata": {},
     "output_type": "execute_result"
    }
   ],
   "source": [
    "df = pd.read_csv('new_end_to_end.csv')\n",
    "df.head()"
   ]
  },
  {
   "cell_type": "code",
   "execution_count": 14,
   "metadata": {},
   "outputs": [
    {
     "ename": "ValueError",
     "evalue": "Plotly Express cannot process wide-form data with columns of different type.",
     "output_type": "error",
     "traceback": [
      "\u001b[1;31m---------------------------------------------------------------------------\u001b[0m",
      "\u001b[1;31mValueError\u001b[0m                                Traceback (most recent call last)",
      "\u001b[1;32md:\\MyEduSolve\\Capstone Project\\new.ipynb Cell 3\u001b[0m in \u001b[0;36m<cell line: 1>\u001b[1;34m()\u001b[0m\n\u001b[1;32m----> <a href='vscode-notebook-cell:/d%3A/MyEduSolve/Capstone%20Project/new.ipynb#W2sZmlsZQ%3D%3D?line=0'>1</a>\u001b[0m fig \u001b[39m=\u001b[39m px\u001b[39m.\u001b[39;49mfunnel(df)\n\u001b[0;32m      <a href='vscode-notebook-cell:/d%3A/MyEduSolve/Capstone%20Project/new.ipynb#W2sZmlsZQ%3D%3D?line=1'>2</a>\u001b[0m fig\u001b[39m.\u001b[39mshow()\n",
      "File \u001b[1;32m~\\AppData\\Roaming\\Python\\Python310\\site-packages\\plotly\\express\\_chart_types.py:1687\u001b[0m, in \u001b[0;36mfunnel\u001b[1;34m(data_frame, x, y, color, facet_row, facet_col, facet_col_wrap, facet_row_spacing, facet_col_spacing, hover_name, hover_data, custom_data, text, animation_frame, animation_group, category_orders, labels, color_discrete_sequence, color_discrete_map, opacity, orientation, log_x, log_y, range_x, range_y, title, template, width, height)\u001b[0m\n\u001b[0;32m   1652\u001b[0m \u001b[39mdef\u001b[39;00m \u001b[39mfunnel\u001b[39m(\n\u001b[0;32m   1653\u001b[0m     data_frame\u001b[39m=\u001b[39m\u001b[39mNone\u001b[39;00m,\n\u001b[0;32m   1654\u001b[0m     x\u001b[39m=\u001b[39m\u001b[39mNone\u001b[39;00m,\n\u001b[1;32m   (...)\u001b[0m\n\u001b[0;32m   1681\u001b[0m     height\u001b[39m=\u001b[39m\u001b[39mNone\u001b[39;00m,\n\u001b[0;32m   1682\u001b[0m ) \u001b[39m-\u001b[39m\u001b[39m>\u001b[39m go\u001b[39m.\u001b[39mFigure:\n\u001b[0;32m   1683\u001b[0m     \u001b[39m\"\"\"\u001b[39;00m\n\u001b[0;32m   1684\u001b[0m \u001b[39m    In a funnel plot, each row of `data_frame` is represented as a\u001b[39;00m\n\u001b[0;32m   1685\u001b[0m \u001b[39m    rectangular sector of a funnel.\u001b[39;00m\n\u001b[0;32m   1686\u001b[0m \u001b[39m    \"\"\"\u001b[39;00m\n\u001b[1;32m-> 1687\u001b[0m     \u001b[39mreturn\u001b[39;00m make_figure(args\u001b[39m=\u001b[39;49m\u001b[39mlocals\u001b[39;49m(), constructor\u001b[39m=\u001b[39;49mgo\u001b[39m.\u001b[39;49mFunnel)\n",
      "File \u001b[1;32m~\\AppData\\Roaming\\Python\\Python310\\site-packages\\plotly\\express\\_core.py:1990\u001b[0m, in \u001b[0;36mmake_figure\u001b[1;34m(args, constructor, trace_patch, layout_patch)\u001b[0m\n\u001b[0;32m   1987\u001b[0m layout_patch \u001b[39m=\u001b[39m layout_patch \u001b[39mor\u001b[39;00m {}\n\u001b[0;32m   1988\u001b[0m apply_default_cascade(args)\n\u001b[1;32m-> 1990\u001b[0m args \u001b[39m=\u001b[39m build_dataframe(args, constructor)\n\u001b[0;32m   1991\u001b[0m \u001b[39mif\u001b[39;00m constructor \u001b[39min\u001b[39;00m [go\u001b[39m.\u001b[39mTreemap, go\u001b[39m.\u001b[39mSunburst, go\u001b[39m.\u001b[39mIcicle] \u001b[39mand\u001b[39;00m args[\u001b[39m\"\u001b[39m\u001b[39mpath\u001b[39m\u001b[39m\"\u001b[39m] \u001b[39mis\u001b[39;00m \u001b[39mnot\u001b[39;00m \u001b[39mNone\u001b[39;00m:\n\u001b[0;32m   1992\u001b[0m     args \u001b[39m=\u001b[39m process_dataframe_hierarchy(args)\n",
      "File \u001b[1;32m~\\AppData\\Roaming\\Python\\Python310\\site-packages\\plotly\\express\\_core.py:1452\u001b[0m, in \u001b[0;36mbuild_dataframe\u001b[1;34m(args, constructor)\u001b[0m\n\u001b[0;32m   1450\u001b[0m         dtype \u001b[39m=\u001b[39m v_dtype\n\u001b[0;32m   1451\u001b[0m     \u001b[39melif\u001b[39;00m dtype \u001b[39m!=\u001b[39m v_dtype:\n\u001b[1;32m-> 1452\u001b[0m         \u001b[39mraise\u001b[39;00m \u001b[39mValueError\u001b[39;00m(\n\u001b[0;32m   1453\u001b[0m             \u001b[39m\"\u001b[39m\u001b[39mPlotly Express cannot process wide-form data with columns of different type.\u001b[39m\u001b[39m\"\u001b[39m\n\u001b[0;32m   1454\u001b[0m         )\n\u001b[0;32m   1455\u001b[0m df_output \u001b[39m=\u001b[39m df_output\u001b[39m.\u001b[39mmelt(\n\u001b[0;32m   1456\u001b[0m     id_vars\u001b[39m=\u001b[39mwide_id_vars,\n\u001b[0;32m   1457\u001b[0m     value_vars\u001b[39m=\u001b[39mwide_value_vars,\n\u001b[0;32m   1458\u001b[0m     var_name\u001b[39m=\u001b[39mvar_name,\n\u001b[0;32m   1459\u001b[0m     value_name\u001b[39m=\u001b[39mvalue_name,\n\u001b[0;32m   1460\u001b[0m )\n\u001b[0;32m   1461\u001b[0m \u001b[39massert\u001b[39;00m \u001b[39mlen\u001b[39m(df_output\u001b[39m.\u001b[39mcolumns) \u001b[39m==\u001b[39m \u001b[39mlen\u001b[39m(\u001b[39mset\u001b[39m(df_output\u001b[39m.\u001b[39mcolumns)), (\n\u001b[0;32m   1462\u001b[0m     \u001b[39m\"\u001b[39m\u001b[39mWide-mode name-inference failure, likely due to a internal bug. \u001b[39m\u001b[39m\"\u001b[39m\n\u001b[0;32m   1463\u001b[0m     \u001b[39m\"\u001b[39m\u001b[39mPlease report this to \u001b[39m\u001b[39m\"\u001b[39m\n\u001b[0;32m   1464\u001b[0m     \u001b[39m\"\u001b[39m\u001b[39mhttps://github.com/plotly/plotly.py/issues/new and we will try to \u001b[39m\u001b[39m\"\u001b[39m\n\u001b[0;32m   1465\u001b[0m     \u001b[39m\"\u001b[39m\u001b[39mreplicate and fix it.\u001b[39m\u001b[39m\"\u001b[39m\n\u001b[0;32m   1466\u001b[0m )\n",
      "\u001b[1;31mValueError\u001b[0m: Plotly Express cannot process wide-form data with columns of different type."
     ]
    }
   ],
   "source": [
    "fig = px.funnel(df)\n",
    "fig.show()"
   ]
  }
 ],
 "metadata": {
  "kernelspec": {
   "display_name": "Python 3",
   "language": "python",
   "name": "python3"
  },
  "language_info": {
   "codemirror_mode": {
    "name": "ipython",
    "version": 3
   },
   "file_extension": ".py",
   "mimetype": "text/x-python",
   "name": "python",
   "nbconvert_exporter": "python",
   "pygments_lexer": "ipython3",
   "version": "3.10.0 (tags/v3.10.0:b494f59, Oct  4 2021, 19:00:18) [MSC v.1929 64 bit (AMD64)]"
  },
  "orig_nbformat": 4,
  "vscode": {
   "interpreter": {
    "hash": "26de051ba29f2982a8de78e945f0abaf191376122a1563185a90213a26c5da77"
   }
  }
 },
 "nbformat": 4,
 "nbformat_minor": 2
}
